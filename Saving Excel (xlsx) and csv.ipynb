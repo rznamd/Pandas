{
 "cells": [
  {
   "cell_type": "markdown",
   "metadata": {},
   "source": [
    "# How to save different DataFrame in one Excel file"
   ]
  },
  {
   "cell_type": "code",
   "execution_count": null,
   "metadata": {},
   "outputs": [],
   "source": [
    "# importing necessary library \n",
    "\n",
    "import pandas as pd\n",
    "import numpy as np"
   ]
  },
  {
   "cell_type": "code",
   "execution_count": null,
   "metadata": {},
   "outputs": [],
   "source": [
    "# Create some Pandas dataframes from some data.\n",
    "\n",
    "index_date_range_2017 = pd.date_range('2017-01-01', '2017-12-31', freq='15min')\n",
    "index_date_range_2018 = pd.date_range('2018-01-01', '2018-12-31', freq='15min')\n",
    "index_date_range_2019 = pd.date_range('2019-01-01', '2019-12-31', freq='15min')\n",
    "\n",
    "df1 = pd.DataFrame({'Data': np.random.randint(low=0, high=100, size=len(index_date_range_2017))}, index = index_date_range_2017)\n",
    "df2 = pd.DataFrame({'Data': np.random.randint(low=0, high=100, size=len(index_date_range_2018))}, index = index_date_range_2018)\n",
    "df3 = pd.DataFrame({'Data': np.random.randint(low=0, high=100, size=len(index_date_range_2019))}, index = index_date_range_2019)"
   ]
  },
  {
   "cell_type": "code",
   "execution_count": null,
   "metadata": {},
   "outputs": [],
   "source": [
    "# install openpyxl and xlsxwriter in your current environment if this code doesn't work \n",
    "\n",
    "writer = pd.ExcelWriter('E:\\\\pandas_multiple.xlsx',engine='xlsxwriter')"
   ]
  },
  {
   "cell_type": "code",
   "execution_count": null,
   "metadata": {},
   "outputs": [],
   "source": [
    "df1.to_excel(writer, sheet_name='Sheet1')\n",
    "df2.to_excel(writer, sheet_name='Sheet2')\n",
    "df3.to_excel(writer, sheet_name='Sheet3')"
   ]
  },
  {
   "cell_type": "code",
   "execution_count": null,
   "metadata": {},
   "outputs": [],
   "source": [
    "writer.save()"
   ]
  },
  {
   "cell_type": "markdown",
   "metadata": {},
   "source": [
    "# Saving DataFrame as xlsx format"
   ]
  },
  {
   "cell_type": "code",
   "execution_count": null,
   "metadata": {},
   "outputs": [],
   "source": [
    "df1.to_excel(\"E:\\\\Test_test_01\\\\df1.csv\")"
   ]
  },
  {
   "cell_type": "markdown",
   "metadata": {},
   "source": [
    "# Saving DataFrame as csv format "
   ]
  },
  {
   "cell_type": "code",
   "execution_count": null,
   "metadata": {},
   "outputs": [],
   "source": [
    "df1.to_csv(\"E:\\\\Test_test_01\\\\df1.csv\")"
   ]
  }
 ],
 "metadata": {
  "kernelspec": {
   "display_name": "Python 3",
   "language": "python",
   "name": "python3"
  },
  "language_info": {
   "codemirror_mode": {
    "name": "ipython",
    "version": 3
   },
   "file_extension": ".py",
   "mimetype": "text/x-python",
   "name": "python",
   "nbconvert_exporter": "python",
   "pygments_lexer": "ipython3",
   "version": "3.7.9"
  }
 },
 "nbformat": 4,
 "nbformat_minor": 4
}
