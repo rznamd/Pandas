{
 "cells": [
  {
   "cell_type": "markdown",
   "metadata": {},
   "source": [
    "# Finding column index which have 'NaN' values"
   ]
  },
  {
   "cell_type": "code",
   "execution_count": null,
   "metadata": {},
   "outputs": [],
   "source": [
    "droping_list_all=[]\n",
    "for j in range(0,len(df.columns)):\n",
    "    if not df.iloc[:, j].notnull().all():\n",
    "        droping_list_all.append(j)        \n",
    "droping_list_all"
   ]
  },
  {
   "cell_type": "markdown",
   "metadata": {},
   "source": [
    "# Finding columns which have missing 'NaN' values in particular row 4"
   ]
  },
  {
   "cell_type": "code",
   "execution_count": null,
   "metadata": {},
   "outputs": [],
   "source": [
    "droping_list_all=[]\n",
    "for j in range(0,len(df.columns)):\n",
    "    if not df.iloc[[4],j].notnull().all(): #4th row every columns\n",
    "        droping_list_all.append(j)        \n",
    "droping_list_all"
   ]
  },
  {
   "cell_type": "markdown",
   "metadata": {},
   "source": [
    "# Finding rows which have missing 'NaN' values"
   ]
  },
  {
   "cell_type": "code",
   "execution_count": null,
   "metadata": {},
   "outputs": [],
   "source": [
    "droping_list_all=[]\n",
    "for j in range(0, df.shape[0]):\n",
    "    if not df.iloc[j,[0]].notnull().all():\n",
    "        droping_list_all.append(j)        \n",
    "droping_list_all"
   ]
  },
  {
   "cell_type": "markdown",
   "metadata": {},
   "source": [
    "# Finding rows which have missing 'NaN' values in particular column"
   ]
  },
  {
   "cell_type": "code",
   "execution_count": null,
   "metadata": {},
   "outputs": [],
   "source": [
    "droping_list_all=[]\n",
    "for j in range(0, df.shape[0]):\n",
    "    if not df.iloc[j,[0]].notnull().all():\n",
    "        droping_list_all.append(j)        \n",
    "droping_list_all"
   ]
  },
  {
   "cell_type": "markdown",
   "metadata": {},
   "source": [
    "# Finding rows which have missing 'NaN' values in particular column with column name"
   ]
  },
  {
   "cell_type": "code",
   "execution_count": null,
   "metadata": {},
   "outputs": [],
   "source": [
    "def finding_rows(df):\n",
    "\n",
    "    column_list_missing_value=[]\n",
    "    for j in range(0,len(df.columns)):\n",
    "        if not df.iloc[:, j].notnull().all():\n",
    "            column_list_missing_value.append(j)\n",
    "\n",
    "    for i in column_list_missing_value:\n",
    "        globals()['missing_values_Col_%s' % i] = []\n",
    "        for j in range(0, df.shape[0]):\n",
    "            if not df.iloc[j,[i]].notnull().all():\n",
    "                globals()['missing_values_Col_%s' % i].append(j)    \n",
    "        print('missing_values_Col_' + '%s:' %i, globals()['missing_values_Col_%s' %i])\n",
    "                \n",
    "def missing_column_name(df):\n",
    "\n",
    "    column_list_missing_value=[]\n",
    "    for j in range(0,len(dataset_2013.columns)):\n",
    "        if not df.iloc[:, j].notnull().all():\n",
    "            column_list_missing_value.append(j)\n",
    "    \n",
    "    for k, v in enumerate(df.columns):\n",
    "        for j in range(0, len(column_list_missing_value)): \n",
    "            if int(column_list_missing_value[j]) == k:\n",
    "                print('missing_values_Col_' + '%s:' %k, v)"
   ]
  }
 ],
 "metadata": {
  "kernelspec": {
   "display_name": "Python 3",
   "language": "python",
   "name": "python3"
  },
  "language_info": {
   "codemirror_mode": {
    "name": "ipython",
    "version": 3
   },
   "file_extension": ".py",
   "mimetype": "text/x-python",
   "name": "python",
   "nbconvert_exporter": "python",
   "pygments_lexer": "ipython3",
   "version": "3.7.9"
  }
 },
 "nbformat": 4,
 "nbformat_minor": 4
}
